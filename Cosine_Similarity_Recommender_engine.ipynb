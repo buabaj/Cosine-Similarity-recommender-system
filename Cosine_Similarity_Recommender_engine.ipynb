{
  "nbformat": 4,
  "nbformat_minor": 0,
  "metadata": {
    "colab": {
      "name": "Cosine Similarity Recommender engine",
      "provenance": [],
      "authorship_tag": "ABX9TyPsr1Tc8IzfAa2BKr2ZqpIP",
      "include_colab_link": true
    },
    "kernelspec": {
      "name": "python3",
      "display_name": "Python 3"
    },
    "accelerator": "GPU"
  },
  "cells": [
    {
      "cell_type": "markdown",
      "metadata": {
        "id": "view-in-github",
        "colab_type": "text"
      },
      "source": [
        "<a href=\"https://colab.research.google.com/github/buabaj/Cosine-Similarity-recommender-system/blob/master/Cosine_Similarity_Recommender_engine.ipynb\" target=\"_parent\"><img src=\"https://colab.research.google.com/assets/colab-badge.svg\" alt=\"Open In Colab\"/></a>"
      ]
    },
    {
      "cell_type": "code",
      "metadata": {
        "id": "9qy47JRLJEL5",
        "colab_type": "code",
        "colab": {
          "base_uri": "https://localhost:8080/",
          "height": 35
        },
        "outputId": "3261e09d-e788-42d1-ba5f-24f85bed5fac"
      },
      "source": [
        "import tensorflow as tf \n",
        "tf.test.gpu_device_name()"
      ],
      "execution_count": 1,
      "outputs": [
        {
          "output_type": "execute_result",
          "data": {
            "application/vnd.google.colaboratory.intrinsic+json": {
              "type": "string"
            },
            "text/plain": [
              "'/device:GPU:0'"
            ]
          },
          "metadata": {
            "tags": []
          },
          "execution_count": 1
        }
      ]
    },
    {
      "cell_type": "code",
      "metadata": {
        "id": "Zka9tc_oJZ5B",
        "colab_type": "code",
        "colab": {
          "base_uri": "https://localhost:8080/",
          "height": 34
        },
        "outputId": "e946cd06-b7d1-4ede-d5a8-0ffbfe7c9882"
      },
      "source": [
        "import pandas as pd\n",
        "import numpy as np\n",
        "from sklearn.feature_extraction.text import CountVectorizer\n",
        "from sklearn.metrics.pairwise import cosine_similarity\n",
        "from sklearn.metrics import jaccard_score\n",
        "print(\"all libraries successfully imported\")"
      ],
      "execution_count": 2,
      "outputs": [
        {
          "output_type": "stream",
          "text": [
            "all libraries successfully imported\n"
          ],
          "name": "stdout"
        }
      ]
    },
    {
      "cell_type": "code",
      "metadata": {
        "id": "NbcaNps9Jfix",
        "colab_type": "code",
        "colab": {
          "base_uri": "https://localhost:8080/",
          "height": 302
        },
        "outputId": "e21e8418-7ca9-4c9a-9bbd-228d77b7d086"
      },
      "source": [
        "movie_df = pd.read_csv('https://raw.githubusercontent.com/codeheroku/Introduction-to-Machine-Learning/master/Building%20a%20Movie%20Recommendation%20Engine/movie_dataset.csv')\n",
        "print(movie_df.head())\n",
        "print(\"\")\n",
        "print(\"Features of the dataset are:\\n\")\n",
        "print(movie_df.columns)"
      ],
      "execution_count": 3,
      "outputs": [
        {
          "output_type": "stream",
          "text": [
            "   index  ...           director\n",
            "0      0  ...      James Cameron\n",
            "1      1  ...     Gore Verbinski\n",
            "2      2  ...         Sam Mendes\n",
            "3      3  ...  Christopher Nolan\n",
            "4      4  ...     Andrew Stanton\n",
            "\n",
            "[5 rows x 24 columns]\n",
            "\n",
            "Features of the dataset are:\n",
            "\n",
            "Index(['index', 'budget', 'genres', 'homepage', 'id', 'keywords',\n",
            "       'original_language', 'original_title', 'overview', 'popularity',\n",
            "       'production_companies', 'production_countries', 'release_date',\n",
            "       'revenue', 'runtime', 'spoken_languages', 'status', 'tagline', 'title',\n",
            "       'vote_average', 'vote_count', 'cast', 'crew', 'director'],\n",
            "      dtype='object')\n"
          ],
          "name": "stdout"
        }
      ]
    },
    {
      "cell_type": "code",
      "metadata": {
        "id": "avs9ZqE_Jiwr",
        "colab_type": "code",
        "colab": {}
      },
      "source": [
        "features = ['keywords','cast','genres','director']\n",
        "def combine_features(row):\n",
        "    return row['keywords']+\" \"+row['cast']+\" \"+row['genres']+\" \"+row['director']"
      ],
      "execution_count": 4,
      "outputs": []
    },
    {
      "cell_type": "code",
      "metadata": {
        "id": "U84OKaZwJnuC",
        "colab_type": "code",
        "colab": {
          "base_uri": "https://localhost:8080/",
          "height": 151
        },
        "outputId": "449f82cd-517f-426e-d009-818c0046ad3a"
      },
      "source": [
        "#filling all NaNs with blank string\n",
        "for feature in features:\n",
        "    movie_df[feature] = movie_df[feature].fillna('')\n",
        "\n",
        "new_df = pd.DataFrame()\n",
        "\n",
        "new_df[\"title\"] = movie_df[\"title\"]\n",
        "new_df[\"index\"] = movie_df[\"index\"]\n",
        "new_df[\"keywords\"] = movie_df[\"keywords\"]\n",
        "new_df[\"cast\"] = movie_df[\"cast\"]\n",
        "new_df[\"genres\"] = movie_df[\"genres\"]\n",
        "new_df[\"director\"] = movie_df[\"director\"]\n",
        "\n",
        "#applying combined_features() method over each rows of dataframe and storing the combined string in \"combined_features\" column\n",
        "new_df[\"combined_features\"] = new_df.apply(combine_features,axis=1) \n",
        "print(new_df.head())"
      ],
      "execution_count": 5,
      "outputs": [
        {
          "output_type": "stream",
          "text": [
            "                                      title  ...                                  combined_features\n",
            "0                                    Avatar  ...  culture clash future space war space colony so...\n",
            "1  Pirates of the Caribbean: At World's End  ...  ocean drug abuse exotic island east india trad...\n",
            "2                                   Spectre  ...  spy based on novel secret agent sequel mi6 Dan...\n",
            "3                     The Dark Knight Rises  ...  dc comics crime fighter terrorist secret ident...\n",
            "4                               John Carter  ...  based on novel mars medallion space travel pri...\n",
            "\n",
            "[5 rows x 7 columns]\n"
          ],
          "name": "stdout"
        }
      ]
    },
    {
      "cell_type": "code",
      "metadata": {
        "id": "Vosg1Z27Oz3q",
        "colab_type": "code",
        "colab": {
          "base_uri": "https://localhost:8080/",
          "height": 721
        },
        "outputId": "23ed2310-cebf-4f99-f843-64d20cd0d299"
      },
      "source": [
        "new_df"
      ],
      "execution_count": 18,
      "outputs": [
        {
          "output_type": "execute_result",
          "data": {
            "text/html": [
              "<div>\n",
              "<style scoped>\n",
              "    .dataframe tbody tr th:only-of-type {\n",
              "        vertical-align: middle;\n",
              "    }\n",
              "\n",
              "    .dataframe tbody tr th {\n",
              "        vertical-align: top;\n",
              "    }\n",
              "\n",
              "    .dataframe thead th {\n",
              "        text-align: right;\n",
              "    }\n",
              "</style>\n",
              "<table border=\"1\" class=\"dataframe\">\n",
              "  <thead>\n",
              "    <tr style=\"text-align: right;\">\n",
              "      <th></th>\n",
              "      <th>title</th>\n",
              "      <th>index</th>\n",
              "      <th>keywords</th>\n",
              "      <th>cast</th>\n",
              "      <th>genres</th>\n",
              "      <th>director</th>\n",
              "      <th>combined_features</th>\n",
              "    </tr>\n",
              "  </thead>\n",
              "  <tbody>\n",
              "    <tr>\n",
              "      <th>0</th>\n",
              "      <td>Avatar</td>\n",
              "      <td>0</td>\n",
              "      <td>culture clash future space war space colony so...</td>\n",
              "      <td>Sam Worthington Zoe Saldana Sigourney Weaver S...</td>\n",
              "      <td>Action Adventure Fantasy Science Fiction</td>\n",
              "      <td>James Cameron</td>\n",
              "      <td>culture clash future space war space colony so...</td>\n",
              "    </tr>\n",
              "    <tr>\n",
              "      <th>1</th>\n",
              "      <td>Pirates of the Caribbean: At World's End</td>\n",
              "      <td>1</td>\n",
              "      <td>ocean drug abuse exotic island east india trad...</td>\n",
              "      <td>Johnny Depp Orlando Bloom Keira Knightley Stel...</td>\n",
              "      <td>Adventure Fantasy Action</td>\n",
              "      <td>Gore Verbinski</td>\n",
              "      <td>ocean drug abuse exotic island east india trad...</td>\n",
              "    </tr>\n",
              "    <tr>\n",
              "      <th>2</th>\n",
              "      <td>Spectre</td>\n",
              "      <td>2</td>\n",
              "      <td>spy based on novel secret agent sequel mi6</td>\n",
              "      <td>Daniel Craig Christoph Waltz L\\u00e9a Seydoux ...</td>\n",
              "      <td>Action Adventure Crime</td>\n",
              "      <td>Sam Mendes</td>\n",
              "      <td>spy based on novel secret agent sequel mi6 Dan...</td>\n",
              "    </tr>\n",
              "    <tr>\n",
              "      <th>3</th>\n",
              "      <td>The Dark Knight Rises</td>\n",
              "      <td>3</td>\n",
              "      <td>dc comics crime fighter terrorist secret ident...</td>\n",
              "      <td>Christian Bale Michael Caine Gary Oldman Anne ...</td>\n",
              "      <td>Action Crime Drama Thriller</td>\n",
              "      <td>Christopher Nolan</td>\n",
              "      <td>dc comics crime fighter terrorist secret ident...</td>\n",
              "    </tr>\n",
              "    <tr>\n",
              "      <th>4</th>\n",
              "      <td>John Carter</td>\n",
              "      <td>4</td>\n",
              "      <td>based on novel mars medallion space travel pri...</td>\n",
              "      <td>Taylor Kitsch Lynn Collins Samantha Morton Wil...</td>\n",
              "      <td>Action Adventure Science Fiction</td>\n",
              "      <td>Andrew Stanton</td>\n",
              "      <td>based on novel mars medallion space travel pri...</td>\n",
              "    </tr>\n",
              "    <tr>\n",
              "      <th>...</th>\n",
              "      <td>...</td>\n",
              "      <td>...</td>\n",
              "      <td>...</td>\n",
              "      <td>...</td>\n",
              "      <td>...</td>\n",
              "      <td>...</td>\n",
              "      <td>...</td>\n",
              "    </tr>\n",
              "    <tr>\n",
              "      <th>4798</th>\n",
              "      <td>El Mariachi</td>\n",
              "      <td>4798</td>\n",
              "      <td>united states\\u2013mexico barrier legs arms pa...</td>\n",
              "      <td>Carlos Gallardo Jaime de Hoyos Peter Marquardt...</td>\n",
              "      <td>Action Crime Thriller</td>\n",
              "      <td>Robert Rodriguez</td>\n",
              "      <td>united states\\u2013mexico barrier legs arms pa...</td>\n",
              "    </tr>\n",
              "    <tr>\n",
              "      <th>4799</th>\n",
              "      <td>Newlyweds</td>\n",
              "      <td>4799</td>\n",
              "      <td></td>\n",
              "      <td>Edward Burns Kerry Bish\\u00e9 Marsha Dietlein ...</td>\n",
              "      <td>Comedy Romance</td>\n",
              "      <td>Edward Burns</td>\n",
              "      <td>Edward Burns Kerry Bish\\u00e9 Marsha Dietlein...</td>\n",
              "    </tr>\n",
              "    <tr>\n",
              "      <th>4800</th>\n",
              "      <td>Signed, Sealed, Delivered</td>\n",
              "      <td>4800</td>\n",
              "      <td>date love at first sight narration investigati...</td>\n",
              "      <td>Eric Mabius Kristin Booth Crystal Lowe Geoff G...</td>\n",
              "      <td>Comedy Drama Romance TV Movie</td>\n",
              "      <td>Scott Smith</td>\n",
              "      <td>date love at first sight narration investigati...</td>\n",
              "    </tr>\n",
              "    <tr>\n",
              "      <th>4801</th>\n",
              "      <td>Shanghai Calling</td>\n",
              "      <td>4801</td>\n",
              "      <td></td>\n",
              "      <td>Daniel Henney Eliza Coupe Bill Paxton Alan Ruc...</td>\n",
              "      <td></td>\n",
              "      <td>Daniel Hsia</td>\n",
              "      <td>Daniel Henney Eliza Coupe Bill Paxton Alan Ru...</td>\n",
              "    </tr>\n",
              "    <tr>\n",
              "      <th>4802</th>\n",
              "      <td>My Date with Drew</td>\n",
              "      <td>4802</td>\n",
              "      <td>obsession camcorder crush dream girl</td>\n",
              "      <td>Drew Barrymore Brian Herzlinger Corey Feldman ...</td>\n",
              "      <td>Documentary</td>\n",
              "      <td>Brian Herzlinger</td>\n",
              "      <td>obsession camcorder crush dream girl Drew Barr...</td>\n",
              "    </tr>\n",
              "  </tbody>\n",
              "</table>\n",
              "<p>4803 rows × 7 columns</p>\n",
              "</div>"
            ],
            "text/plain": [
              "                                         title  ...                                  combined_features\n",
              "0                                       Avatar  ...  culture clash future space war space colony so...\n",
              "1     Pirates of the Caribbean: At World's End  ...  ocean drug abuse exotic island east india trad...\n",
              "2                                      Spectre  ...  spy based on novel secret agent sequel mi6 Dan...\n",
              "3                        The Dark Knight Rises  ...  dc comics crime fighter terrorist secret ident...\n",
              "4                                  John Carter  ...  based on novel mars medallion space travel pri...\n",
              "...                                        ...  ...                                                ...\n",
              "4798                               El Mariachi  ...  united states\\u2013mexico barrier legs arms pa...\n",
              "4799                                 Newlyweds  ...   Edward Burns Kerry Bish\\u00e9 Marsha Dietlein...\n",
              "4800                 Signed, Sealed, Delivered  ...  date love at first sight narration investigati...\n",
              "4801                          Shanghai Calling  ...   Daniel Henney Eliza Coupe Bill Paxton Alan Ru...\n",
              "4802                         My Date with Drew  ...  obsession camcorder crush dream girl Drew Barr...\n",
              "\n",
              "[4803 rows x 7 columns]"
            ]
          },
          "metadata": {
            "tags": []
          },
          "execution_count": 18
        }
      ]
    },
    {
      "cell_type": "code",
      "metadata": {
        "id": "evhfJoNNJrRs",
        "colab_type": "code",
        "colab": {}
      },
      "source": [
        "#creating new CountVectorizer() object\n",
        "cv = CountVectorizer() \n",
        "\n",
        " #feeding combined strings(movie contents) to CountVectorizer() object\n",
        "count_matrix = cv.fit_transform(new_df[\"combined_features\"])\n",
        "\n",
        "cosine_sim = cosine_similarity(count_matrix)"
      ],
      "execution_count": 6,
      "outputs": []
    },
    {
      "cell_type": "code",
      "metadata": {
        "id": "9VZGjVVhJu91",
        "colab_type": "code",
        "colab": {}
      },
      "source": [
        "def get_title_from_index(index):\n",
        "    return new_df[new_df.index == index][\"title\"].values[0]\n",
        "def get_index_from_title(title):\n",
        "    return new_df[new_df.title == title][\"index\"].values[0]"
      ],
      "execution_count": 7,
      "outputs": []
    },
    {
      "cell_type": "code",
      "metadata": {
        "id": "WeY8JIbGJx_N",
        "colab_type": "code",
        "colab": {}
      },
      "source": [
        "movie_user_likes = \"Avatar\"\n",
        "movie_index = get_index_from_title(movie_user_likes)\n",
        "\n",
        "#accessing the row corresponding to given movie to find \n",
        "# all the similarity scores for that movie and then enumerating over it\n",
        "similar_movies = list(enumerate(cosine_sim[movie_index])) \n",
        "sorted_similar_movies = sorted(similar_movies,key=lambda x:x[1],reverse=True)[1:]\n",
        "\n",
        "# print(sorted_similar_movies)"
      ],
      "execution_count": 19,
      "outputs": []
    },
    {
      "cell_type": "code",
      "metadata": {
        "id": "GqN7I_0pJ3b7",
        "colab_type": "code",
        "colab": {
          "base_uri": "https://localhost:8080/",
          "height": 319
        },
        "outputId": "da1e0e21-d33f-40e1-c2de-4b4b43ba3f7e"
      },
      "source": [
        "i=0\n",
        "print(\"Since you like '\"+movie_user_likes+\"', You should consider watching:\\n\")\n",
        "for element in sorted_similar_movies:\n",
        "    print(get_title_from_index(element[0]))\n",
        "    i=i+1\n",
        "    if i>15:\n",
        "        break"
      ],
      "execution_count": 20,
      "outputs": [
        {
          "output_type": "stream",
          "text": [
            "Since you like 'Avatar', You should consider watching:\n",
            "\n",
            "Guardians of the Galaxy\n",
            "Aliens\n",
            "Star Wars: Clone Wars: Volume 1\n",
            "Star Trek Into Darkness\n",
            "Star Trek Beyond\n",
            "Alien\n",
            "Lockout\n",
            "Jason X\n",
            "The Helix... Loaded\n",
            "Moonraker\n",
            "Planet of the Apes\n",
            "Galaxy Quest\n",
            "Gravity\n",
            "Alien³\n",
            "Jupiter Ascending\n",
            "The Wolverine\n"
          ],
          "name": "stdout"
        }
      ]
    },
    {
      "cell_type": "code",
      "metadata": {
        "id": "dNcZWEyRJ9Yy",
        "colab_type": "code",
        "colab": {}
      },
      "source": [
        ""
      ],
      "execution_count": null,
      "outputs": []
    }
  ]
}