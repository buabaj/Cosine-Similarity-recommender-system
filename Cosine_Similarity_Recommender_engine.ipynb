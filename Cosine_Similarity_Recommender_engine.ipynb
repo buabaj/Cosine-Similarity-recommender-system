{
  "nbformat": 4,
  "nbformat_minor": 0,
  "metadata": {
    "colab": {
      "name": "Cosine Similarity Recommender engine",
      "provenance": [],
      "authorship_tag": "ABX9TyO2NDHlXcOFNJ2glMkvZXCY",
      "include_colab_link": true
    },
    "kernelspec": {
      "name": "python3",
      "display_name": "Python 3"
    },
    "accelerator": "GPU"
  },
  "cells": [
    {
      "cell_type": "markdown",
      "metadata": {
        "id": "view-in-github",
        "colab_type": "text"
      },
      "source": [
        "<a href=\"https://colab.research.google.com/github/buabaj/Cosine-Similarity-recommender-system/blob/movie-recommender-engine/Cosine_Similarity_Recommender_engine.ipynb\" target=\"_parent\"><img src=\"https://colab.research.google.com/assets/colab-badge.svg\" alt=\"Open In Colab\"/></a>"
      ]
    },
    {
      "cell_type": "code",
      "metadata": {
        "id": "9qy47JRLJEL5",
        "colab_type": "code",
        "colab": {
          "base_uri": "https://localhost:8080/",
          "height": 35
        },
        "outputId": "3261e09d-e788-42d1-ba5f-24f85bed5fac"
      },
      "source": [
        "import tensorflow as tf \n",
        "tf.test.gpu_device_name()"
      ],
      "execution_count": 1,
      "outputs": [
        {
          "output_type": "execute_result",
          "data": {
            "application/vnd.google.colaboratory.intrinsic+json": {
              "type": "string"
            },
            "text/plain": [
              "'/device:GPU:0'"
            ]
          },
          "metadata": {
            "tags": []
          },
          "execution_count": 1
        }
      ]
    },
    {
      "cell_type": "code",
      "metadata": {
        "id": "Zka9tc_oJZ5B",
        "colab_type": "code",
        "colab": {
          "base_uri": "https://localhost:8080/",
          "height": 34
        },
        "outputId": "e946cd06-b7d1-4ede-d5a8-0ffbfe7c9882"
      },
      "source": [
        "import pandas as pd\n",
        "import numpy as np\n",
        "from sklearn.feature_extraction.text import CountVectorizer\n",
        "from sklearn.metrics.pairwise import cosine_similarity\n",
        "from sklearn.metrics import jaccard_score\n",
        "print(\"all libraries successfully imported\")"
      ],
      "execution_count": 2,
      "outputs": [
        {
          "output_type": "stream",
          "text": [
            "all libraries successfully imported\n"
          ],
          "name": "stdout"
        }
      ]
    },
    {
      "cell_type": "code",
      "metadata": {
        "id": "NbcaNps9Jfix",
        "colab_type": "code",
        "colab": {
          "base_uri": "https://localhost:8080/",
          "height": 302
        },
        "outputId": "e21e8418-7ca9-4c9a-9bbd-228d77b7d086"
      },
      "source": [
        "movie_df = pd.read_csv('https://raw.githubusercontent.com/codeheroku/Introduction-to-Machine-Learning/master/Building%20a%20Movie%20Recommendation%20Engine/movie_dataset.csv')\n",
        "print(movie_df.head())\n",
        "print(\"\")\n",
        "print(\"Features of the dataset are:\\n\")\n",
        "print(movie_df.columns)"
      ],
      "execution_count": 3,
      "outputs": [
        {
          "output_type": "stream",
          "text": [
            "   index  ...           director\n",
            "0      0  ...      James Cameron\n",
            "1      1  ...     Gore Verbinski\n",
            "2      2  ...         Sam Mendes\n",
            "3      3  ...  Christopher Nolan\n",
            "4      4  ...     Andrew Stanton\n",
            "\n",
            "[5 rows x 24 columns]\n",
            "\n",
            "Features of the dataset are:\n",
            "\n",
            "Index(['index', 'budget', 'genres', 'homepage', 'id', 'keywords',\n",
            "       'original_language', 'original_title', 'overview', 'popularity',\n",
            "       'production_companies', 'production_countries', 'release_date',\n",
            "       'revenue', 'runtime', 'spoken_languages', 'status', 'tagline', 'title',\n",
            "       'vote_average', 'vote_count', 'cast', 'crew', 'director'],\n",
            "      dtype='object')\n"
          ],
          "name": "stdout"
        }
      ]
    },
    {
      "cell_type": "code",
      "metadata": {
        "id": "avs9ZqE_Jiwr",
        "colab_type": "code",
        "colab": {}
      },
      "source": [
        "features = ['keywords','cast','genres','director']\n",
        "def combine_features(row):\n",
        "    return row['keywords']+\" \"+row['cast']+\" \"+row['genres']+\" \"+row['director']"
      ],
      "execution_count": 4,
      "outputs": []
    },
    {
      "cell_type": "code",
      "metadata": {
        "id": "U84OKaZwJnuC",
        "colab_type": "code",
        "colab": {
          "base_uri": "https://localhost:8080/",
          "height": 151
        },
        "outputId": "449f82cd-517f-426e-d009-818c0046ad3a"
      },
      "source": [
        "#filling all NaNs with blank string\n",
        "for feature in features:\n",
        "    movie_df[feature] = movie_df[feature].fillna('')\n",
        "\n",
        "new_df = pd.DataFrame()\n",
        "\n",
        "new_df[\"title\"] = movie_df[\"title\"]\n",
        "new_df[\"index\"] = movie_df[\"index\"]\n",
        "new_df[\"keywords\"] = movie_df[\"keywords\"]\n",
        "new_df[\"cast\"] = movie_df[\"cast\"]\n",
        "new_df[\"genres\"] = movie_df[\"genres\"]\n",
        "new_df[\"director\"] = movie_df[\"director\"]\n",
        "\n",
        "#applying combined_features() method over each rows of dataframe and storing the combined string in \"combined_features\" column\n",
        "new_df[\"combined_features\"] = new_df.apply(combine_features,axis=1) \n",
        "print(new_df.head())"
      ],
      "execution_count": 5,
      "outputs": [
        {
          "output_type": "stream",
          "text": [
            "                                      title  ...                                  combined_features\n",
            "0                                    Avatar  ...  culture clash future space war space colony so...\n",
            "1  Pirates of the Caribbean: At World's End  ...  ocean drug abuse exotic island east india trad...\n",
            "2                                   Spectre  ...  spy based on novel secret agent sequel mi6 Dan...\n",
            "3                     The Dark Knight Rises  ...  dc comics crime fighter terrorist secret ident...\n",
            "4                               John Carter  ...  based on novel mars medallion space travel pri...\n",
            "\n",
            "[5 rows x 7 columns]\n"
          ],
          "name": "stdout"
        }
      ]
    },
    {
      "cell_type": "code",
      "metadata": {
        "id": "evhfJoNNJrRs",
        "colab_type": "code",
        "colab": {}
      },
      "source": [
        "#creating new CountVectorizer() object\n",
        "cv = CountVectorizer() \n",
        "\n",
        " #feeding combined strings(movie contents) to CountVectorizer() object\n",
        "count_matrix = cv.fit_transform(new_df[\"combined_features\"])\n",
        "\n",
        "cosine_sim = cosine_similarity(count_matrix)"
      ],
      "execution_count": 6,
      "outputs": []
    },
    {
      "cell_type": "code",
      "metadata": {
        "id": "9VZGjVVhJu91",
        "colab_type": "code",
        "colab": {}
      },
      "source": [
        "def get_title_from_index(index):\n",
        "    return new_df[new_df.index == index][\"title\"].values[0]\n",
        "def get_index_from_title(title):\n",
        "    return new_df[new_df.title == title][\"index\"].values[0]"
      ],
      "execution_count": 7,
      "outputs": []
    },
    {
      "cell_type": "code",
      "metadata": {
        "id": "WeY8JIbGJx_N",
        "colab_type": "code",
        "colab": {}
      },
      "source": [
        "movie_user_likes = \"The Dark Knight Rises\"\n",
        "movie_index = get_index_from_title(movie_user_likes)\n",
        "\n",
        "#accessing the row corresponding to given movie to find \n",
        "# all the similarity scores for that movie and then enumerating over it\n",
        "similar_movies = list(enumerate(cosine_sim[movie_index])) \n",
        "sorted_similar_movies = sorted(similar_movies,key=lambda x:x[1],reverse=True)[1:]\n",
        "\n",
        "# print(sorted_similar_movies)"
      ],
      "execution_count": 9,
      "outputs": []
    },
    {
      "cell_type": "code",
      "metadata": {
        "id": "GqN7I_0pJ3b7",
        "colab_type": "code",
        "colab": {
          "base_uri": "https://localhost:8080/",
          "height": 319
        },
        "outputId": "8bcddd24-f35b-498e-b78b-4a97e1f692af"
      },
      "source": [
        "i=0\n",
        "print(\"Top 15 similar movies to '\"+movie_user_likes+\"' using Cosine Similarity are:\\n\")\n",
        "for element in sorted_similar_movies:\n",
        "    print(get_title_from_index(element[0]), \" -- \", round(element[1], 2))\n",
        "    i=i+1\n",
        "    if i>15:\n",
        "        break"
      ],
      "execution_count": 10,
      "outputs": [
        {
          "output_type": "stream",
          "text": [
            "Top 15 similar movies to 'The Dark Knight Rises' using Cosine Similarity are:\n",
            "\n",
            "Batman Begins  --  0.73\n",
            "The Dark Knight  --  0.69\n",
            "Amidst the Devil's Wings  --  0.45\n",
            "The Killer Inside Me  --  0.39\n",
            "The Prestige  --  0.38\n",
            "Batman Returns  --  0.36\n",
            "Batman  --  0.35\n",
            "Batman & Robin  --  0.34\n",
            "Kick-Ass  --  0.33\n",
            "RockNRolla  --  0.33\n",
            "Kick-Ass 2  --  0.33\n",
            "Harry Brown  --  0.31\n",
            "In Too Deep  --  0.29\n",
            "Defendor  --  0.29\n",
            "Point Blank  --  0.29\n",
            "Harsh Times  --  0.29\n"
          ],
          "name": "stdout"
        }
      ]
    },
    {
      "cell_type": "code",
      "metadata": {
        "id": "dNcZWEyRJ9Yy",
        "colab_type": "code",
        "colab": {}
      },
      "source": [
        ""
      ],
      "execution_count": null,
      "outputs": []
    }
  ]
}